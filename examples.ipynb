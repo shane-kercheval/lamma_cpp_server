{
 "cells": [
  {
   "cell_type": "markdown",
   "metadata": {},
   "source": [
    "Once the service is running, you can test using OpenAI's library and the `base_url` option."
   ]
  },
  {
   "cell_type": "code",
   "execution_count": 33,
   "metadata": {},
   "outputs": [],
   "source": [
    "system_message = \"You are a helpful coding AI assistant.\"\n",
    "prompt = \"Write a python function to mask email addresses from a given string value.\""
   ]
  },
  {
   "cell_type": "code",
   "execution_count": 34,
   "metadata": {},
   "outputs": [
    {
     "name": "stdout",
     "output_type": "stream",
     "text": [
      "Here is a simple Python function that masks email addresses in a given string by replacing the \"@\" symbol and the domain part with asterisks.\n",
      "\n",
      "```python\n",
      "import re\n",
      "\n",
      "def mask_email(text):\n",
      "    pattern = r'\\b[A-Za-z0-9._%+-]+@[A-Za-z0-9.-]+\\.[A-Z|a-z]{2,}\\b'\n",
      "    return re.sub(pattern, lambda x: '***@{}[].{}'.format('*' * len(x.group()), x.group(1), x.group(2)), text)\n",
      "```\n",
      "\n",
      "This function uses a regular expression pattern to find email addresses in the given string and then replaces them with asterisks while preserving the \"@\" symbol and the domain part.\n"
     ]
    }
   ],
   "source": [
    "import openai\n",
    "\n",
    "client = openai.OpenAI(\n",
    "    base_url=\"http://llama-server:8080/v1\", # \"http://<Your api-server IP>:port\"\n",
    "    api_key = \"no key required\"\n",
    ")\n",
    "\n",
    "completion = client.chat.completions.create(\n",
    "    model=\"\",\n",
    "    stream=True,\n",
    "    temperature=0.2,\n",
    "    messages=[\n",
    "        {\"role\": \"system\", \"content\": system_message},\n",
    "        {\"role\": \"user\", \"content\": prompt},\n",
    "    ]\n",
    ")\n",
    "# print(completion.choices[0].message)\n",
    "for chunk in completion:\n",
    "    text = chunk.choices[0].delta.content\n",
    "    if text:\n",
    "        print(text, end=\"\")"
   ]
  },
  {
   "cell_type": "markdown",
   "metadata": {},
   "source": [
    "# Using OpenAI with base_url pointed to `llama-server` docker service."
   ]
  },
  {
   "cell_type": "code",
   "execution_count": 35,
   "metadata": {},
   "outputs": [],
   "source": [
    "# !pip install llm-workflow"
   ]
  },
  {
   "cell_type": "code",
   "execution_count": 36,
   "metadata": {},
   "outputs": [
    {
     "name": "stdout",
     "output_type": "stream",
     "text": [
      "Here's a Python function that masks email addresses in a given string by replacing the '@' symbol and the domain part with asterisks:\n",
      "\n",
      "```python\n",
      "import re\n",
      "\n",
      "def mask_email(text):\n",
      "    \"\"\"\n",
      "    Mask email addresses in a given text by replacing '@' and the domain part with asterisks.\n",
      "    \"\"\"\n",
      "    pattern = r'\\b[A-Za-z0-9._%+-]+@[A-Za-z0-9.-]+\\.[A-Z|a-z]{2,}\\b'\n",
      "    match = re.findall(pattern, text)\n",
      "\n",
      "    for email in match:\n",
      "        text = text.replace(email, '{}***.*****@***.***'.format(email[:email.index('@')]))\n",
      "\n",
      "    return text\n",
      "```\n",
      "\n",
      "This function uses a regular expression to find email addresses in the given text and then replaces them with asterisks while keeping the original part before '@' symbol. Note that this function may not cover all edge cases, but it should work for most common email formats."
     ]
    }
   ],
   "source": [
    "from llm_workflow.llama_cpp_endpoint import LlamaCppEndpointChat\n",
    "from llm_workflow.message_formatters import mistral_message_formatter\n",
    "\n",
    "chat = LlamaCppEndpointChat(\n",
    "    endpoint_url='http://192.168.1.168:8080/completion',\n",
    "    # endpoint_url=\"http://llama-server:8080/v1/completion\",\n",
    "    system_message=system_message,\n",
    "    streaming_callback=lambda x: print(x.response, end=\"\"),\n",
    "    message_formatter=mistral_message_formatter,\n",
    "    parameters={\n",
    "        'temperature': 0.2,\n",
    "        'n_predict': -1,\n",
    "        'top_k': 40,\n",
    "        'repeat_penalty': 1.1,\n",
    "        'min_p': 0.05,\n",
    "        'top_p': 0.95,\n",
    "    },\n",
    ")\n",
    "response = chat(prompt)"
   ]
  },
  {
   "cell_type": "code",
   "execution_count": 41,
   "metadata": {},
   "outputs": [
    {
     "data": {
      "text/plain": [
       "{'endpoint_url': 'http://192.168.1.168:8080/completion',\n",
       " 'parameters': {'temperature': 0.2,\n",
       "  'n_predict': -1,\n",
       "  'top_k': 40,\n",
       "  'repeat_penalty': 1.1,\n",
       "  'min_p': 0.05,\n",
       "  'top_p': 0.95,\n",
       "  'prompt': 'You are a helpful coding AI assistant.[INST]Write a python function to mask email addresses from a given string value.[/INST] ',\n",
       "  'stream': True},\n",
       " 'timeout': 30,\n",
       " 'response': 'Here\\'s a Python function that masks email addresses in a given string by replacing the \\'@\\' symbol and the domain part with asterisks:\\n\\n```python\\nimport re\\n\\ndef mask_email(text):\\n    \"\"\"\\n    Mask email addresses in a given text by replacing \\'@\\' and the domain part with asterisks.\\n    \"\"\"\\n    pattern = r\\'\\\\b[A-Za-z0-9._%+-]+@[A-Za-z0-9.-]+\\\\.[A-Z|a-z]{2,}\\\\b\\'\\n    match = re.findall(pattern, text)\\n\\n    for email in match:\\n        text = text.replace(email, \\'{}***.*****@***.***\\'.format(email[:email.index(\\'@\\')]))\\n\\n    return text\\n```\\n\\nThis function uses a regular expression to find email addresses in the given text and then replaces them with asterisks while keeping the original part before \\'@\\' symbol. Note that this function may not cover all edge cases, but it should work for most common email formats.',\n",
       " 'messages': 'You are a helpful coding AI assistant.[INST]Write a python function to mask email addresses from a given string value.[/INST] '}"
      ]
     },
     "execution_count": 41,
     "metadata": {},
     "output_type": "execute_result"
    }
   ],
   "source": [
    "chat.history()[-1].metadata"
   ]
  }
 ],
 "metadata": {
  "kernelspec": {
   "display_name": "Python 3",
   "language": "python",
   "name": "python3"
  },
  "language_info": {
   "codemirror_mode": {
    "name": "ipython",
    "version": 3
   },
   "file_extension": ".py",
   "mimetype": "text/x-python",
   "name": "python",
   "nbconvert_exporter": "python",
   "pygments_lexer": "ipython3",
   "version": "3.10.12"
  }
 },
 "nbformat": 4,
 "nbformat_minor": 2
}
